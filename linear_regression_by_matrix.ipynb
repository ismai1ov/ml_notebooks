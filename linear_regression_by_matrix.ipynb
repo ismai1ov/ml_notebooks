{
 "cells": [
  {
   "cell_type": "code",
   "execution_count": 1,
   "id": "e4a076af",
   "metadata": {},
   "outputs": [],
   "source": [
    "import numpy as np\n",
    "\n",
    "def LinearRegressionByMatrix(X: np.array, Y: np.array, fit_intercept: bool = True):\n",
    "        \"\"\"\n",
    "        :param X: objects\n",
    "        :param Y: targets (single column matrix)\n",
    "        :param fit_intercept: add a constant variable?\n",
    "        \n",
    "        :return: one-dimensional numpy-array with the resulting beta coefficients\n",
    "        \"\"\"\n",
    "        \n",
    "        if fit_intercept == True:\n",
    "            X = np.c_[X, np.ones(X.shape[0])]\n",
    "\n",
    "        xxt = np.dot(X.T, X)\n",
    "        xxt_inv = np.linalg.inv(xxt)\n",
    "        xxt_inv_t = np.dot(xxt_inv, X.T)\n",
    "        final_b = np.dot(xxt_inv_t, Y)\n",
    "        \n",
    "        return final_b"
   ]
  }
 ],
 "metadata": {
  "kernelspec": {
   "display_name": "Python 3 (ipykernel)",
   "language": "python",
   "name": "python3"
  },
  "language_info": {
   "codemirror_mode": {
    "name": "ipython",
    "version": 3
   },
   "file_extension": ".py",
   "mimetype": "text/x-python",
   "name": "python",
   "nbconvert_exporter": "python",
   "pygments_lexer": "ipython3",
   "version": "3.9.13"
  }
 },
 "nbformat": 4,
 "nbformat_minor": 5
}
